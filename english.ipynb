{
  "nbformat": 4,
  "nbformat_minor": 0,
  "metadata": {
    "colab": {
      "name": "english.ipynb",
      "provenance": [],
      "collapsed_sections": []
    },
    "kernelspec": {
      "name": "python3",
      "display_name": "Python 3"
    }
  },
  "cells": [
    {
      "cell_type": "markdown",
      "metadata": {
        "id": "c4ChuSkCIbDD",
        "colab_type": "text"
      },
      "source": [
        "\n",
        "#Personal project in Python \n",
        "##Find english words in the human proteome\n",
        "---\n",
        "Guétemme Colin\n",
        "---\n",
        "\n",
        "From a .txt file containing 3000 english words we want to find this words in a file containing the human proteome.\n",
        "\n",
        "\n",
        "\n"
      ]
    },
    {
      "cell_type": "markdown",
      "metadata": {
        "id": "tR90fCWOJKX6",
        "colab_type": "text"
      },
      "source": [
        "# Import the libraries"
      ]
    },
    {
      "cell_type": "code",
      "metadata": {
        "id": "F7Pe7Nu8ODvr",
        "colab_type": "code",
        "colab": {}
      },
      "source": [
        "import pandas as pd\n",
        "import matplotlib.pyplot as plt\n",
        "from IPython.display import clear_output\n",
        "import io\n",
        "import os"
      ],
      "execution_count": 0,
      "outputs": []
    },
    {
      "cell_type": "markdown",
      "metadata": {
        "id": "AkIJoTyOIZ0d",
        "colab_type": "text"
      },
      "source": [
        "##Import the dataset\n",
        "\n",
        "Require to have the data (which are in the github) on a local disk"
      ]
    },
    {
      "cell_type": "code",
      "metadata": {
        "id": "agEZSMRVMrS4",
        "colab_type": "code",
        "colab": {}
      },
      "source": [
        "print(\"Select the file for the words (english-words.txt)\")\n",
        "English_words = files.upload()\n",
        "print(\"Select the file for the proteome (human-proteome.fasta)\")\n",
        "Proteome = files.upload()"
      ],
      "execution_count": 0,
      "outputs": []
    },
    {
      "cell_type": "markdown",
      "metadata": {
        "id": "2_88vxYmUEae",
        "colab_type": "text"
      },
      "source": [
        "#Formatting data:\n",
        "The variable `wfr` (words file read) will be transform into a list, each element corresponding to a word.\n",
        "\n",
        "The variable `pfr` (proteome file read) will first be transform as a list where each element is a line of the file, then the lines wich are not corresponding to proteine sequences are removed. Then all is join in one long string and put in lower case to be compared with the english words. \n"
      ]
    },
    {
      "cell_type": "code",
      "metadata": {
        "id": "LEKoWVVeUDvB",
        "colab_type": "code",
        "outputId": "43293979-2833-4db3-ae30-5d1627a6f40b",
        "colab": {
          "base_uri": "https://localhost:8080/",
          "height": 199
        }
      },
      "source": [
        "# Creates a list with all the words in the file english-words.txt\n",
        "wf = open(\"english-words.txt\", \"r\")\n",
        "wfr = wf.read()\n",
        "wfr = wfr.split()\n",
        "\n",
        "wfr[500:510]  # Exemple of the words between 500 and 510"
      ],
      "execution_count": 4,
      "outputs": [
        {
          "output_type": "execute_result",
          "data": {
            "text/plain": [
              "['colonial',\n",
              " 'color',\n",
              " 'column',\n",
              " 'combination',\n",
              " 'combine',\n",
              " 'come',\n",
              " 'comedy',\n",
              " 'comfort',\n",
              " 'comfortable',\n",
              " 'command']"
            ]
          },
          "metadata": {
            "tags": []
          },
          "execution_count": 4
        }
      ]
    },
    {
      "cell_type": "code",
      "metadata": {
        "id": "qQZc3xXr4Khe",
        "colab_type": "code",
        "colab": {}
      },
      "source": [
        "# I decide to concatenate all the sequence in one long sequence\n",
        "# which means the order of the sequence count since append a \n",
        "# a sequence to another can create a new word.\n",
        "pf = open(\"human-proteome.fasta\", \"r\")\n",
        "pfr = pf.read()\n",
        "pfr = pfr.split(\"\\n\") \n",
        "\n",
        "# Then checks for each line if it start with a \">\" \n",
        "# meaning this line a sequence, if it is the case \n",
        "# delete this line.\n",
        "counter=0\n",
        "\n",
        "# I use a while loop because the length of 'pfr' change when I delete an element\n",
        "while len(pfr)-1 > counter: \n",
        "    if pfr[counter][0] == '>': \n",
        "        del pfr[counter]\n",
        "        # In this case we do not increment 'counter'\n",
        "        # because since we delete element pfr[counter], \n",
        "        # pfr[counter] is a different element\n",
        "    else :\n",
        "        counter += 1 # Increment 'counter' for the while loop\n",
        "\n",
        "# Merge all the sequences together\n",
        "pfr = ''.join(pfr[0:len(pfr)]) \n",
        "\n",
        "# Then, I put the new long sequence in lower case to compare it to the english words (also in lower case)\n",
        "pfr = pfr.lower() "
      ],
      "execution_count": 0,
      "outputs": []
    },
    {
      "cell_type": "markdown",
      "metadata": {
        "id": "lU1EwaF3NRPx",
        "colab_type": "text"
      },
      "source": [
        "# Histogram of the number of letter\n",
        "this cell find the distribution of words with \"n\" letters\n",
        "\n",
        "!! LONG TIME TO PROCESS !! (for all the dictionary)\n",
        "\n",
        "I have only looked at the words between 4 and 11 letters (to avoid the very high frequency of 1, 2 and 3 letters words).\n"
      ]
    },
    {
      "cell_type": "code",
      "metadata": {
        "id": "aXgX9CwsWfiF",
        "colab_type": "code",
        "outputId": "b3adccc8-5589-414c-80ad-10f252031015",
        "colab": {
          "base_uri": "https://localhost:8080/",
          "height": 310
        }
      },
      "source": [
        "# Initialisation of the vector for the number of occurences\n",
        "# of each word with 'n' letters\n",
        "Nb_letter=[0, 0, 0, 0, 0, 0, 0, 0]  # from 4 to 11\n",
        "\n",
        "# Min and max index of the dictionnary to run the algorithm\n",
        "# the minimum being 0 and the maximum being 2999\n",
        "min_value = 100\n",
        "max_value = 200\n",
        "\n",
        "# Initalisation of a list to store the positions\n",
        "# of the words in the genome ('n_letter'>3)\n",
        "list_word = []\n",
        "counter = 0\n",
        "\n",
        "for i in range(min_value, max_value): \n",
        "    word = wfr[i]\n",
        "    list_pos = []\n",
        "    # To clear the status of the number of words scan\n",
        "    clear_output()\n",
        "    # How many words the computer scanned\n",
        "    print(\"{0} over {1}\".format(i+1-min_value,max_value-min_value)) \n",
        "\n",
        "    # check that the word contain more then 3 letters\n",
        "    if len(word) > 3:  \n",
        "        # The last part of the range is to avoid to\n",
        "        # that the end of the word we are looking at\n",
        "        # go out of the proteome list\n",
        "        for position in range(0, len(pfr)-len(word)):\n",
        "            if pfr[position : position+len(word)] == word:\n",
        "                # Increment the index of Nb_letter corresponding to the size of the word\n",
        "                Nb_letter[len(word)-4] += 1\n",
        "                list_pos.append(position)\n",
        "\n",
        "        if len(list_pos) > 0:\n",
        "            # creates a new index of list_word and add\n",
        "            # in this new space the current word and the \n",
        "            # the position where we can find it, if it can\n",
        "            # be find in the proteome\n",
        "            list_word.append([])\n",
        "            list_word[counter].append(word)\n",
        "            list_word[counter].append(list_pos)\n",
        "\n",
        "            # Since all the word are not added to list_word\n",
        "            # I need to create a different counter\n",
        "            counter += 1\n",
        "\n",
        "print(\"The vector of occurences for n letters (with n from 4 to 11) is: \\n {} \\n \".format(str(Nb_letter)))\n",
        "\n",
        "# Print only the first results in case of list_word is too large \n",
        "if len(list_word) > 10:\n",
        "    print(\"the occurences of the words are: \")\n",
        "    for i in range(0, 9):\n",
        "        print(list_word[i])\n",
        "    print(\"... and more\") \n",
        "else:\n",
        "    print(\"the occurences of the words are: \")\n",
        "    for i in range(0, len(list_word)):\n",
        "        print(list_word[i])       \n",
        "\n",
        "# Results for all the words\n",
        "# Nb_letter = [34407, 2982, 160, 23, 5, 0, 0, 0]"
      ],
      "execution_count": 32,
      "outputs": [
        {
          "output_type": "stream",
          "text": [
            "100 over 100\n",
            "The vector of occurences for n letters (with n from 4 to 11) is: \n",
            " [319, 107, 17, 0, 0, 0, 0, 0] \n",
            " \n",
            "the occurences of the words are: \n",
            "['alter', [1048616, 4020330, 4085236, 5290682, 6548554, 7531842, 8534239, 9031252, 9163981, 9317214, 10608385]]\n",
            "['anger', [3154077, 3666405, 4875726, 6450465, 8777855]]\n",
            "['angle', [5111855, 8278295, 8358149, 10802588]]\n",
            "['angry', [753570, 7288590]]\n",
            "['apart', [1071010, 1088787, 1540373, 1783895, 3149557, 4042238, 5928089, 6156217, 6228400, 9297381, 9716158, 10485271]]\n",
            "['appeal', [1871118, 6156367, 6471937]]\n",
            "['apple', [30619, 444335, 832647, 2165457, 3373782, 3395481, 3546840, 3653603, 3697700, 3932910, 3933405, 7314753, 7839024, 8843393, 10008912, 10036323, 10059787, 10644696, 10830602, 10905323, 11307182]]\n",
            "['apply', [523820, 5236621, 7207740, 9713257, 9746200, 10396351]]\n",
            "['area', [14835, 37026, 66762, 140684, 202350, 256052, 342742, 372989, 381125, 418855, 452247, 530597, 612710, 621111, 656330, 733230, 752110, 756233, 778982, 832033, 898671, 939101, 973489, 1042712, 1056273, 1099517, 1111962, 1191992, 1246396, 1267073, 1283818, 1328329, 1391556, 1465029, 1474001, 1554472, 1567265, 1592877, 1611328, 1752095, 1863816, 1907151, 2015651, 2041195, 2051214, 2179971, 2191740, 2201793, 2248310, 2258779, 2336765, 2337489, 2338213, 2339303, 2390668, 2391396, 2391758, 2392124, 2392852, 2393580, 2393952, 2395404, 2396128, 2396937, 2417014, 2435908, 2438271, 2470029, 2514692, 2520352, 2521083, 2521449, 2521815, 2525209, 2525571, 2583908, 2675112, 2760006, 2778341, 2810691, 2829064, 2843498, 2877209, 2916205, 2945091, 2945640, 2946189, 2946738, 2947287, 2978551, 2991070, 3040350, 3043642, 3048224, 3156572, 3160256, 3161018, 3162024, 3186025, 3197181, 3199681, 3210328, 3289298, 3322076, 3387424, 3450971, 3453346, 3456606, 3488314, 3495415, 3621574, 3622123, 3648990, 3689914, 3695638, 3817060, 3827719, 3840372, 3842463, 3843012, 3868106, 3904126, 4014620, 4015245, 4166227, 4183171, 4227244, 4295748, 4360224, 4453864, 4460030, 4461252, 4628757, 4710089, 4726835, 4744286, 4884197, 4951298, 5039563, 5057613, 5063577, 5113097, 5127757, 5172289, 5184780, 5186563, 5226792, 5268741, 5375045, 5379659, 5564440, 5625587, 5625674, 5634241, 5656317, 5761493, 5762504, 5783920, 5855930, 5979333, 5982856, 5982861, 5982866, 5982881, 5984193, 5984488, 5987245, 5987753, 6057017, 6057535, 6073228, 6079094, 6082129, 6105617, 6245981, 6298648, 6318350, 6412352, 6437922, 6464519, 6484097, 6583973, 6607456, 6700817, 6785532, 6852136, 6921609, 6929688, 6930202, 6976090, 6980351, 6999935, 7019423, 7039145, 7064741, 7081637, 7128854, 7208856, 7274051, 7275038, 7302588, 7314029, 7346647, 7411139, 7533227, 7570962, 7737269, 7776165, 7776466, 7808578, 7924164, 7963092, 7988547, 8009252, 8041698, 8045337, 8056689, 8187910, 8216340, 8225639, 8251217, 8276220, 8328856, 8361217, 8368513, 8377851, 8435373, 8499112, 8504522, 8519509, 8534253, 8550742, 8556602, 8566725, 8648483, 8654081, 8704082, 8736187, 8815534, 8862100, 8891099, 8902471, 8923924, 8944287, 8989378, 9031763, 9071949, 9081646, 9152298, 9199169, 9231777, 9270760, 9299279, 9316186, 9331834, 9391238, 9414940, 9429728, 9443237, 9462530, 9547695, 9598043, 9735570, 9767711, 9817233, 9830136, 9835581, 9838661, 9856885, 9911083, 9993715, 10096918, 10124056, 10146536, 10233774, 10233974, 10272594, 10298597, 10378257, 10410121, 10644303, 10651035, 10656562, 10660694, 10683041, 10698388, 10725898, 10739701, 10749662, 10751622, 10763469, 10769423, 10773422, 10774688, 10939170, 10952942, 11006436, 11021514, 11099304, 11251480, 11261011]]\n",
            "... and more\n"
          ],
          "name": "stdout"
        }
      ]
    },
    {
      "cell_type": "markdown",
      "metadata": {
        "id": "fjFOBT6w8K4J",
        "colab_type": "text"
      },
      "source": [
        "Plot of the distribution of the number of letters in each occurences of word in the proteome\n",
        "\n",
        "(in this one all the words have been tested)"
      ]
    },
    {
      "cell_type": "code",
      "metadata": {
        "id": "pg_fSARNP1nP",
        "colab_type": "code",
        "outputId": "6ca8cd01-8485-41f9-dd40-6ae4aaf12268",
        "colab": {
          "base_uri": "https://localhost:8080/",
          "height": 331
        }
      },
      "source": [
        "plt.bar([4, 5, 6, 7, 8, 9, 10, 11], Nb_letter)\n",
        "plt.title('Histogram of the occurences of words depending of their number of letter')\n",
        "plt.xlabel('number of letter')\n",
        "plt.ylabel('Occurences in the proteome')"
      ],
      "execution_count": 0,
      "outputs": [
        {
          "output_type": "stream",
          "text": [
            "[34407, 2982, 160, 23, 5, 0, 0, 0]\n"
          ],
          "name": "stdout"
        },
        {
          "output_type": "execute_result",
          "data": {
            "text/plain": [
              "Text(0, 0.5, 'Occurences in the proteome')"
            ]
          },
          "metadata": {
            "tags": []
          },
          "execution_count": 13
        },
        {
          "output_type": "display_data",
          "data": {
            "image/png": "[encoded data removed]",
            "text/plain": [
              "<Figure size 432x288 with 1 Axes>"
            ]
          },
          "metadata": {
            "tags": []
          }
        }
      ]
    },
    {
      "cell_type": "markdown",
      "metadata": {
        "id": "5Y73A4G--brz",
        "colab_type": "text"
      },
      "source": [
        "Plot of the number of occurences for a sample of words\n"
      ]
    },
    {
      "cell_type": "code",
      "metadata": {
        "id": "PyfaNCG5wL8T",
        "colab_type": "code",
        "colab": {
          "base_uri": "https://localhost:8080/",
          "height": 299
        },
        "outputId": "84b23bf3-cea8-48dc-98cc-02dddb9655b5"
      },
      "source": [
        "list_name = []\n",
        "list_value = []\n",
        "\n",
        "# Creates a list of names for the x-axis\n",
        "# and a list of number of occurences for the y-axis\n",
        "for i in range(0, 9):\n",
        "    list_name.append(list_word[i][0])\n",
        "    list_value.append(len(list_word[i][1]))\n",
        "\n",
        "plt.bar(list_name, list_value)\n",
        "plt.title('Histogram of the occurences of the 10 first words of list_word')\n",
        "plt.xlabel('')\n",
        "plt.ylabel('Occurences in the proteome')"
      ],
      "execution_count": 20,
      "outputs": [
        {
          "output_type": "execute_result",
          "data": {
            "text/plain": [
              "Text(0, 0.5, 'Occurences in the proteome')"
            ]
          },
          "metadata": {
            "tags": []
          },
          "execution_count": 20
        },
        {
          "output_type": "display_data",
          "data": {
            "image/png": "[encoded data removed]",
            "text/plain": [
              "<Figure size 432x288 with 1 Axes>"
            ]
          },
          "metadata": {
            "tags": []
          }
        }
      ]
    },
    {
      "cell_type": "markdown",
      "metadata": {
        "id": "83sTh_CqOlUA",
        "colab_type": "text"
      },
      "source": [
        "# Find a specific word\n",
        "\n",
        "This cell allow the user to find either a word of the dictionary using a word index or to enter a new string to find.\n",
        "\n",
        "In the case of an index, it should be an integer between 0 and 2999.\n",
        " \n",
        "In the case of a string it should only contain lowcase letters."
      ]
    },
    {
      "cell_type": "code",
      "metadata": {
        "id": "6Ix-n0K1OfE7",
        "colab_type": "code",
        "outputId": "5e923422-7edd-403b-8273-7dd18f2ce17c",
        "colab": {
          "base_uri": "https://localhost:8080/",
          "height": 90
        }
      },
      "source": [
        "word = input(\"enter the word (string or index), you want to test: \")\n",
        "\n",
        "# This try is necessary to check if the input can be transform into an int\n",
        "# to be used as an index, otherwise it is consider as a string and do not change.\n",
        "try: \n",
        "    word = int(word)\n",
        "except:\n",
        "    word = word\n",
        "\n",
        "# If the input is an index, it will select the corresponding word in the dictionary\n",
        "if type(word) == int:\n",
        "    word_pos = word\n",
        "    word = wfr[word]\n",
        "    print(\"You selected the word: {0}, at the position {1} \".format(word, word_pos))\n",
        "\n",
        "counter = 0\n",
        "vect_pos = []\n",
        "\n",
        "# Scan all the proteome and increment vect_pos when it find an occurence\n",
        "for position in range(0, len(pfr)-len(word)):\n",
        "  if pfr[position : position+len(word)] == word:\n",
        "    vect_pos.append(position)\n",
        "    counter += 1\n",
        "\n",
        "# Print the number of occurence of the selected word\n",
        "print(\"\\n the number of occurences for {0} is {1}\".format(word, counter))\n",
        "\n",
        "# Only print the first values if the number of occurences is too high\n",
        "if len(vect_pos) < 10:\n",
        "    print(\"At the following positions : {0} \".format(vect_pos))\n",
        "else:\n",
        "    print(\"At the following positions : {0} ... \".format(vect_pos[0:9]))\n"
      ],
      "execution_count": 31,
      "outputs": [
        {
          "output_type": "stream",
          "text": [
            "enter the word (string or index), you want to test: rennes\n",
            "\n",
            " the number of occurences for rennes is 1\n",
            "At the following positions : [10153391] \n"
          ],
          "name": "stdout"
        }
      ]
    }
  ]
}